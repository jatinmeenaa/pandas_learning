{
  "nbformat": 4,
  "nbformat_minor": 0,
  "metadata": {
    "colab": {
      "provenance": [],
      "include_colab_link": true
    },
    "kernelspec": {
      "name": "python3",
      "display_name": "Python 3"
    },
    "language_info": {
      "name": "python"
    }
  },
  "cells": [
    {
      "cell_type": "markdown",
      "metadata": {
        "id": "view-in-github",
        "colab_type": "text"
      },
      "source": [
        "<a href=\"https://colab.research.google.com/github/jatinmeenaa/pandas_learning/blob/main/Pandas.ipynb\" target=\"_parent\"><img src=\"https://colab.research.google.com/assets/colab-badge.svg\" alt=\"Open In Colab\"/></a>"
      ]
    },
    {
      "cell_type": "code",
      "execution_count": null,
      "metadata": {
        "id": "RLPGkXJKrFAX"
      },
      "outputs": [],
      "source": [
        "import pandas as pd\n",
        "import numpy as np\n",
        "df = pd.DataFrame([[1,2,3],[4,5,6],[7,8,9]],index=['a','b','c'], columns=['A','B','C'])\n",
        "df"
      ]
    },
    {
      "cell_type": "markdown",
      "source": [
        "### Dataframe\n",
        "A DataFrame is a 2D labeled data structure in Pandas, like a table with rows and columns.\n",
        "- pd.DataFrame() : creates a dataframe with the data in form of iterables like list dictionaries arrays etc.\n",
        "- by default the rows and colums have integer labels from 0.\n",
        "- index=[] : customize the row labels.\n",
        "- columns=[] : customize the column labels."
      ],
      "metadata": {
        "id": "aSHkDauWwCfp"
      }
    },
    {
      "cell_type": "code",
      "source": [
        "df['A'] # getting a particular column by specifying the label"
      ],
      "metadata": {
        "id": "X4xsS1RY1qTH"
      },
      "execution_count": null,
      "outputs": []
    },
    {
      "cell_type": "code",
      "source": [
        "df[['B','C']] # getting multiple columns by specifying the labels in form of list"
      ],
      "metadata": {
        "id": "JLz8FKTIzg3X"
      },
      "execution_count": null,
      "outputs": []
    },
    {
      "cell_type": "code",
      "source": [
        "df[:1:] # returns specific rows when specified in the form of [start: end(exclusive): step]\n",
        "df[:1:]['A'] # getting specific columns from slice\n",
        "df['A'][:1:] # make a slice from specified column"
      ],
      "metadata": {
        "id": "s4cp1EVh11yq"
      },
      "execution_count": null,
      "outputs": []
    },
    {
      "cell_type": "code",
      "source": [
        "df[2:][3:] # returns the slice of the slice"
      ],
      "metadata": {
        "id": "37OKQjLZtgMx"
      },
      "execution_count": null,
      "outputs": []
    },
    {
      "cell_type": "code",
      "source": [
        "df.head(1) # df.head(n=5): returns first n rows, for negative returns all except for last |n|"
      ],
      "metadata": {
        "id": "GvkGR-xx1xDG"
      },
      "execution_count": null,
      "outputs": []
    },
    {
      "cell_type": "code",
      "source": [
        "df.tail(2) # df.tail(n): returns last n rows, for negative all except for first |n|"
      ],
      "metadata": {
        "id": "Jo2xbaatzaWV"
      },
      "execution_count": null,
      "outputs": []
    },
    {
      "cell_type": "code",
      "source": [
        "df.sample() # df.sample(n): returns random n rows , random_state = 2 for reproducibility"
      ],
      "metadata": {
        "id": "946_SERKUDcB"
      },
      "execution_count": null,
      "outputs": []
    },
    {
      "cell_type": "code",
      "source": [
        "df.columns # return column labels\n",
        "df.columns = ['a','b','c'] # changing the column labels\n",
        "df.columns.tolist() # return the same in form of list"
      ],
      "metadata": {
        "id": "JKpO_ax-2aTq"
      },
      "execution_count": null,
      "outputs": []
    },
    {
      "cell_type": "code",
      "source": [
        "df.index # return row labels"
      ],
      "metadata": {
        "id": "t9zpaRGc3GI4"
      },
      "execution_count": null,
      "outputs": []
    },
    {
      "cell_type": "code",
      "source": [
        "df.info() #shows a summary of the DataFrame, including column names, non-null counts, data types, and memory usage."
      ],
      "metadata": {
        "id": "oNW7uM0e3MJh"
      },
      "execution_count": null,
      "outputs": []
    },
    {
      "cell_type": "code",
      "source": [
        "df.describe() # gives statistical summaries (like mean, std, min, max, etc.) for numeric columns in the DataFrame."
      ],
      "metadata": {
        "id": "Cfp75xAQ3gJf"
      },
      "execution_count": null,
      "outputs": []
    },
    {
      "cell_type": "code",
      "source": [
        "df.shape # returns the shape of dataframe"
      ],
      "metadata": {
        "id": "m3rcsbJY4Q-d"
      },
      "execution_count": null,
      "outputs": []
    },
    {
      "cell_type": "code",
      "source": [
        "df.size # returns the total number of elements in the DataFrame (rows × columns)."
      ],
      "metadata": {
        "id": "QlISm5ta4eoW"
      },
      "execution_count": null,
      "outputs": []
    },
    {
      "cell_type": "markdown",
      "source": [
        "### Loading data into dataframe\n",
        "- pd.read_csv('file.csv') – for CSV files\n",
        "- pd.read_excel('file.xlsx') – for Excel files\n",
        "- pd.read_json('file.json') – for JSON files\n",
        "- pd.read_sql(query, connection) – for SQL databases\n",
        "\n",
        "> link to raw data from github also works in place of file path\n",
        "\n"
      ],
      "metadata": {
        "id": "l16P6u_3Q_2H"
      }
    },
    {
      "cell_type": "code",
      "source": [
        "data = pd.read_csv('https://raw.githubusercontent.com/jatinmeenaa/pandas_learning/refs/heads/main/Students%20Social%20Media%20Addiction.csv')\n",
        "data.sample(5,random_state=2)"
      ],
      "metadata": {
        "id": "yIsV9x7SSAUL"
      },
      "execution_count": null,
      "outputs": []
    },
    {
      "cell_type": "markdown",
      "source": [
        "### Accessing the data"
      ],
      "metadata": {
        "id": "7Y1szfpravt_"
      }
    },
    {
      "cell_type": "markdown",
      "source": [
        "#### (.loc , .iloc)\n",
        "1. df.loc[] is label-based: access rows/columns using labels \\\\\n",
        "(e.g., df.loc[2], df.loc[:, 'Name'])\n",
        "\n",
        "2. df.iloc[] is position-based: access rows/columns using index positions \\\\\n",
        "(e.g., df.iloc[2], df.iloc[:, 0])\n",
        "\n",
        "\n",
        "> The row and column specification can be a list of rows and list of columns\n",
        "\n"
      ],
      "metadata": {
        "id": "01SvlDGdV-RY"
      }
    },
    {
      "cell_type": "code",
      "source": [
        "data.loc[:,'Student_ID']\n",
        "data.loc[[1,2,3,6],['Student_ID','Gender']]\n",
        "\n",
        "# data.iloc[:,'Student_ID'] # Error: value error since iloc requires index value not label\n",
        "data.iloc[:,0]\n",
        "data.iloc[:4,:4] # both can be a specified in form of slice"
      ],
      "metadata": {
        "id": "RVX80mzUWM0p"
      },
      "execution_count": null,
      "outputs": []
    },
    {
      "cell_type": "markdown",
      "source": [
        "#### setting the values using .loc .iloc\n"
      ],
      "metadata": {
        "id": "iWd9A_UEairN"
      }
    },
    {
      "cell_type": "code",
      "source": [
        "data.loc[0,'Age']=20 #setting single value\n",
        "data.loc[0:2,'Age']=20 #setting multiple values\n",
        "data.loc[:,'Age']"
      ],
      "metadata": {
        "id": "XI-tWzysah66"
      },
      "execution_count": null,
      "outputs": []
    },
    {
      "cell_type": "markdown",
      "source": [
        "#### (.at , .iat)\n",
        "- df.at[row_label, column_label] – fast access to a single value using labels\n",
        "\n",
        "- df.iat[row_pos, column_pos] – fast access to a single value using integer positions"
      ],
      "metadata": {
        "id": "4pCXpkDhc-qk"
      }
    },
    {
      "cell_type": "code",
      "source": [
        "data.at[0,'Student_ID']"
      ],
      "metadata": {
        "id": "G0m3XGeUc6H_"
      },
      "execution_count": null,
      "outputs": []
    },
    {
      "cell_type": "markdown",
      "source": [
        "#### .sort_values()\n",
        "  returns the sorted data....do not change the original \\\\\n",
        "\n",
        "\n",
        "> For changing the actual data frame set\\\\\n",
        " inplace = True \\\\\n",
        " in this case doesn't return anything\n",
        "\n"
      ],
      "metadata": {
        "id": "XarJZukxfnDE"
      }
    },
    {
      "cell_type": "code",
      "source": [
        "data.head()"
      ],
      "metadata": {
        "id": "bIUFI2uWfmbA"
      },
      "execution_count": null,
      "outputs": []
    },
    {
      "cell_type": "code",
      "source": [
        "data.sort_values('Age') # default ascending\n",
        "data.sort_values(by='Age') # works the same\n",
        "data.sort_values(['Gender','Age'],ascending=[0,1],inplace=True) # gender descending and age ascending\n",
        "data"
      ],
      "metadata": {
        "id": "1gnwVhzMf1mt"
      },
      "execution_count": null,
      "outputs": []
    },
    {
      "cell_type": "code",
      "source": [
        "data=pd.read_csv('https://raw.githubusercontent.com/jatinmeenaa/pandas_learning/refs/heads/main/Students%20Social%20Media%20Addiction.csv')\n",
        "data"
      ],
      "metadata": {
        "id": "3wLcvFbLh0i9"
      },
      "execution_count": null,
      "outputs": []
    },
    {
      "cell_type": "markdown",
      "source": [
        "#### iterating row wise ( not much prefrable as not optimized )\n",
        "\n",
        "df.iterrows() lets you loop through the DataFrame row by row as (index, Series) pairs."
      ],
      "metadata": {
        "id": "x9OrZm9gj3w7"
      }
    },
    {
      "cell_type": "code",
      "source": [
        "for index, row in data.iterrows():\n",
        "  print(index)\n",
        "  print(type(row))\n",
        "  print('\\n\\n')"
      ],
      "metadata": {
        "id": "ubQVflJBkGVe"
      },
      "execution_count": null,
      "outputs": []
    },
    {
      "cell_type": "markdown",
      "source": [
        "### Filtering the data"
      ],
      "metadata": {
        "id": "koqr4rk0thOH"
      }
    },
    {
      "cell_type": "markdown",
      "source": [
        "#### numeric"
      ],
      "metadata": {
        "id": "rYIFqPyx0yJd"
      }
    },
    {
      "cell_type": "code",
      "source": [
        "data.loc[data['Gender']=='Male'] # all the columns for male"
      ],
      "metadata": {
        "id": "yGQpmTcQt8aO"
      },
      "execution_count": null,
      "outputs": []
    },
    {
      "cell_type": "code",
      "source": [
        "data[data['Gender']=='Male'] # works the same"
      ],
      "metadata": {
        "id": "GQ7e5OuTwVW0"
      },
      "execution_count": null,
      "outputs": []
    },
    {
      "cell_type": "code",
      "source": [
        "data.loc[data['Gender']=='Male',['Student_ID','Age']] # specific columns"
      ],
      "metadata": {
        "id": "QtJQiUVCwVCQ"
      },
      "execution_count": null,
      "outputs": []
    },
    {
      "cell_type": "code",
      "source": [
        "data[data['Gender']=='Male'][['Student_ID','Age']] # works the same"
      ],
      "metadata": {
        "id": "Keuy_dG_wU3W"
      },
      "execution_count": null,
      "outputs": []
    },
    {
      "cell_type": "code",
      "source": [
        "data[(data['Gender']=='Male')& (data['Age']>19)][['Student_ID','Age']] # multiple conditions"
      ],
      "metadata": {
        "id": "tMp3oXdUwUln"
      },
      "execution_count": null,
      "outputs": []
    },
    {
      "cell_type": "markdown",
      "source": [
        "#### string and regex based filtering\n",
        "- .str is used to apply string functions on each element of a Series containing strings\n",
        "\n",
        "- Series.str.contains(pat, case=True, flags=0, na=None, regex=True) \\\\\n",
        "na=False : treats a missing value as False (avoiding errors) \\\\\n",
        "case=False : case doesn't matter"
      ],
      "metadata": {
        "id": "5XRnIs_e08ZS"
      }
    },
    {
      "cell_type": "code",
      "source": [
        "data[data['Country'].str.contains(r'^I')]"
      ],
      "metadata": {
        "collapsed": true,
        "id": "RVUBNceg1AN_"
      },
      "execution_count": null,
      "outputs": []
    },
    {
      "cell_type": "code",
      "source": [
        "data[data['Country'].isin(['UK','USA'])]"
      ],
      "metadata": {
        "collapsed": true,
        "id": "Emd-t3n339_a"
      },
      "execution_count": null,
      "outputs": []
    },
    {
      "cell_type": "code",
      "source": [
        "data.query('Country==\"UK\" and Age<=20')"
      ],
      "metadata": {
        "id": "lsKOPFH39BH1"
      },
      "execution_count": null,
      "outputs": []
    },
    {
      "cell_type": "code",
      "source": [],
      "metadata": {
        "id": "MKlUadyU-ZYT"
      },
      "execution_count": null,
      "outputs": []
    },
    {
      "cell_type": "markdown",
      "source": [
        "### Adding/Removing columns"
      ],
      "metadata": {
        "id": "vdD3ySJW-Y5H"
      }
    },
    {
      "cell_type": "code",
      "source": [
        "data['Sal']=0 # Adding a new column with the value as 0\n",
        "import numpy as np\n",
        "data['Mental_state']=np.where(data['Mental_Health_Score']<6,'Fail','Pass') # values on some condition\n",
        "data"
      ],
      "metadata": {
        "id": "qDmhomMl-jRa"
      },
      "execution_count": null,
      "outputs": []
    },
    {
      "cell_type": "code",
      "source": [
        "data.drop(columns=['Sal','Mental_state'],inplace=True) # removing columns\n",
        "# by default inplace=False so only returns and do not modify original\n",
        "data=data.drop(columns=['Sal','Mental_state']) # made to point to modified data\n",
        "data"
      ],
      "metadata": {
        "id": "Nu3B7AOf_gPa"
      },
      "execution_count": null,
      "outputs": []
    },
    {
      "cell_type": "code",
      "source": [
        "new_data=data # points to same dataframe\n",
        "new_data=data.copy() # creates a new dataframe and copy the data to that\n",
        "new_data"
      ],
      "metadata": {
        "id": "PNYK995cBSAw"
      },
      "execution_count": null,
      "outputs": []
    },
    {
      "cell_type": "code",
      "source": [
        "data['new_column']=data['Age']+1 # creating the column form existing data\n",
        "data"
      ],
      "metadata": {
        "id": "fa0LPsIGB6tr"
      },
      "execution_count": null,
      "outputs": []
    },
    {
      "cell_type": "code",
      "source": [
        "data.rename(columns={'new_column': 'new'},inplace=True) # renaming the column\n",
        "data"
      ],
      "metadata": {
        "id": "KHAsYwEICOvD"
      },
      "execution_count": null,
      "outputs": []
    },
    {
      "cell_type": "code",
      "source": [
        "data['Date']='18-07-2025'\n",
        "data['Date']\n",
        "data['Date_datetime'] = pd.to_datetime(data['Date']) # changing to datetime\n",
        "# to avoid error due to format we can specify the format as\n",
        "# tells pandas how to read the date string\n",
        "data['Date_datetime'] = pd.to_datetime(data['Date'], format='%d-%m-%Y')\n",
        "data['Date_datetime']"
      ],
      "metadata": {
        "id": "TpGRahSe-DxU"
      },
      "execution_count": null,
      "outputs": []
    },
    {
      "cell_type": "code",
      "source": [
        "# using .dt to access datetime properties\n",
        "#.dt can only be used on Series with datetime-like values (e.g., datetime64, Timestamp)\n",
        "data['Year']=data['Date_datetime'].dt.year # extracting the year\n",
        "data['Month']=data['Date_datetime'].dt.month # extracting the month"
      ],
      "metadata": {
        "id": "RvovG_XDF80a"
      },
      "execution_count": null,
      "outputs": []
    },
    {
      "cell_type": "markdown",
      "source": [
        "#### updating to the file\n"
      ],
      "metadata": {
        "id": "QS1gAxqaMFKW"
      }
    },
    {
      "cell_type": "code",
      "source": [
        "data.to_csv('data.csv',index=False) # saves the data\n",
        "# index= False to avoid saving index too"
      ],
      "metadata": {
        "id": "A46QeMN-MLQI"
      },
      "execution_count": null,
      "outputs": []
    },
    {
      "cell_type": "markdown",
      "source": [
        "#### using lambda and custom functions with .apply()"
      ],
      "metadata": {
        "id": "2ydSh8tUNEbl"
      }
    },
    {
      "cell_type": "code",
      "source": [
        "def description(row):\n",
        "  return 'Male' if row['Gender']=='Male' else 'Female'"
      ],
      "metadata": {
        "id": "kF1QdTs3RF92"
      },
      "execution_count": null,
      "outputs": []
    },
    {
      "cell_type": "code",
      "source": [
        "data['New']=data['Age'].apply(lambda x: x*x) # using lambda function\n",
        "data['Description']=data.apply(description,axis=1) # using custom function ; axis = 1 to specify passing row ; 0 is for colums\n",
        "data[['Age','New','Description']]"
      ],
      "metadata": {
        "id": "So18nJAiNCnr"
      },
      "execution_count": null,
      "outputs": []
    },
    {
      "cell_type": "markdown",
      "source": [
        "### Merging and Concatenating data\n",
        "- .merge() in Pandas is used to combine two DataFrames based on common columns or indexes (like SQL joins).\n",
        "\n",
        "\n",
        "\n",
        "> pd.merge(df1, df2, on='key') \\\\\n",
        "\n",
        "1. on – column(s) to join on \\\\\n",
        "  a. when column names are same on which the dataframes are merge appears once \\\\\n",
        "  b. same column names on which merge is not done are added with some suffix to distinguish\n",
        "\n",
        "2. how – type of join: 'inner' (default) , 'left', 'right', 'outer'\n",
        "\n",
        "3. left_on / right_on – if column names differ in the two DataFrames\n",
        "\n",
        "- returns a new data frame\n",
        "\n"
      ],
      "metadata": {
        "id": "Hd0K-qFrURdr"
      }
    },
    {
      "cell_type": "code",
      "source": [
        "# saving the sample data\n",
        "bios=pd.read_csv('https://raw.githubusercontent.com/KeithGalli/complete-pandas-tutorial/refs/heads/master/data/bios.csv')\n",
        "bios.to_csv('bios.csv',index=False)\n",
        "noc_regions=pd.read_csv('https://raw.githubusercontent.com/KeithGalli/complete-pandas-tutorial/refs/heads/master/data/noc_regions.csv')\n",
        "noc_regions.to_csv('noc_regions.csv',index=False)\n"
      ],
      "metadata": {
        "id": "CeVZSCIxU1E9"
      },
      "execution_count": null,
      "outputs": []
    },
    {
      "cell_type": "code",
      "source": [
        "pd.merge(bios,noc_regions,left_on='born_country',right_on='NOC',how='left') # merging on columns with different names\n",
        "pd.merge(bios,noc_regions,left_on='born_country',right_on='NOC',suffixes=['h','j'],how='left')\n",
        "# here this suffixes is supplied with lsuffix and rsuffix which is added to columsn with same name to about confusion\n",
        "# by default ['_x','_y']"
      ],
      "metadata": {
        "id": "TU3WBsQjz_Co"
      },
      "execution_count": null,
      "outputs": []
    },
    {
      "cell_type": "code",
      "source": [
        "pd.merge(bios,noc_regions,on='NOC',how='left') # merging on columns with same name"
      ],
      "metadata": {
        "id": "JPphqeYc1afG"
      },
      "execution_count": null,
      "outputs": []
    },
    {
      "cell_type": "markdown",
      "source": [
        "\n",
        "> pd.concat() is used to combine multiple DataFrames or Series along a particular axis.\n",
        "\n",
        "```\n",
        "pd.concat([df1, df2], axis=0)\n",
        "```\n",
        "axis=0 → stack vertically (default, like row-wise append)\n",
        "\n",
        "axis=1 → stack horizontally (like adding new columns)\n",
        "\n",
        "ignore_index=True → resets index in the result\n",
        "\n",
        "keys=['a', 'b'] → adds multi-level index labels (in two df first df's rows are preceded by a and for second df , preceded by b)\n",
        "\n",
        "\n",
        "\n"
      ],
      "metadata": {
        "id": "qPMKZX607bje"
      }
    },
    {
      "cell_type": "code",
      "source": [
        "bios.head()"
      ],
      "metadata": {
        "id": "HX9pSNpX_9PC"
      },
      "execution_count": null,
      "outputs": []
    },
    {
      "cell_type": "code",
      "source": [
        "df1=bios[bios['born_country'] =='FRA'][:5]\n",
        "df2=bios[bios['born_country']=='GBR'][:5]\n",
        "final=pd.concat([df1,df2],axis=0) # concating vertically (stack)\n",
        "final.index.to_list() # the index is not reseted\n",
        "\n",
        "final=pd.concat([df1,df2],axis=0,ignore_index=True) # reseting the index\n",
        "final.index.to_list\n"
      ],
      "metadata": {
        "id": "USKkAwcYASZt"
      },
      "execution_count": null,
      "outputs": []
    },
    {
      "cell_type": "code",
      "source": [
        "final=pd.concat([df1,df2],axis=0,keys=['a','b']) # multilevel index\n",
        "final.index.to_list()"
      ],
      "metadata": {
        "id": "S6JAbGW0Dl4C"
      },
      "execution_count": null,
      "outputs": []
    },
    {
      "cell_type": "code",
      "source": [
        "final=pd.concat([df1,df2],axis=1) # concating horizontally (add columns)\n",
        "final\n",
        "### this unexpected output because to merge horizontally the index shall match"
      ],
      "metadata": {
        "id": "PWxQfcSaD57i"
      },
      "execution_count": null,
      "outputs": []
    },
    {
      "cell_type": "code",
      "source": [
        "df1.index= [1,2,3,4,5]\n",
        "df2.index=[1,2,3,4,6]\n",
        "pd.concat([df1,df2],axis=1)"
      ],
      "metadata": {
        "id": "ON9YNgvZFNCF"
      },
      "execution_count": null,
      "outputs": []
    }
  ]
}