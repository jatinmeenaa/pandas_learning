{
  "nbformat": 4,
  "nbformat_minor": 0,
  "metadata": {
    "colab": {
      "provenance": [],
      "toc_visible": true,
      "include_colab_link": true
    },
    "kernelspec": {
      "name": "python3",
      "display_name": "Python 3"
    },
    "language_info": {
      "name": "python"
    }
  },
  "cells": [
    {
      "cell_type": "markdown",
      "metadata": {
        "id": "view-in-github",
        "colab_type": "text"
      },
      "source": [
        "<a href=\"https://colab.research.google.com/github/jatinmeenaa/pandas_learning/blob/main/Pandas.ipynb\" target=\"_parent\"><img src=\"https://colab.research.google.com/assets/colab-badge.svg\" alt=\"Open In Colab\"/></a>"
      ]
    },
    {
      "cell_type": "code",
      "execution_count": null,
      "metadata": {
        "id": "RLPGkXJKrFAX"
      },
      "outputs": [],
      "source": [
        "import pandas as pd\n",
        "df = pd.DataFrame([[1,2,3],[4,5,6],[7,8,9]],index=['a','b','c'], columns=['A','B','C'])\n",
        "df"
      ]
    },
    {
      "cell_type": "markdown",
      "source": [
        "### Dataframe\n",
        "A DataFrame is a 2D labeled data structure in Pandas, like a table with rows and columns.\n",
        "- pd.DataFrame() : creates a dataframe with the data in form of iterables like list dictionaries arrays etc.\n",
        "- by default the rows and colums have integer labels from 0.\n",
        "- index=[] : customize the row labels.\n",
        "- columns=[] : customize the column labels."
      ],
      "metadata": {
        "id": "aSHkDauWwCfp"
      }
    },
    {
      "cell_type": "code",
      "source": [
        "df['A'] # getting a particular column by specifying the label"
      ],
      "metadata": {
        "id": "X4xsS1RY1qTH"
      },
      "execution_count": null,
      "outputs": []
    },
    {
      "cell_type": "code",
      "source": [
        "df[['B','C']] # getting multiple columns by specifying the labels in form of list"
      ],
      "metadata": {
        "id": "JLz8FKTIzg3X"
      },
      "execution_count": null,
      "outputs": []
    },
    {
      "cell_type": "code",
      "source": [
        "df[:1:] # returns specific rows when specified in the form of [start: end(exclusive): step]"
      ],
      "metadata": {
        "id": "s4cp1EVh11yq"
      },
      "execution_count": null,
      "outputs": []
    },
    {
      "cell_type": "code",
      "source": [
        "df.head(1) # df.head(n=5): returns first n rows, for negative returns all except for last |n|"
      ],
      "metadata": {
        "id": "GvkGR-xx1xDG"
      },
      "execution_count": null,
      "outputs": []
    },
    {
      "cell_type": "code",
      "source": [
        "df.tail(2) # df.tail(n): returns last n rows, for negative all except for first |n|"
      ],
      "metadata": {
        "id": "Jo2xbaatzaWV"
      },
      "execution_count": null,
      "outputs": []
    },
    {
      "cell_type": "code",
      "source": [
        "df.sample() # df.sample(n): returns random n rows , random_state = 2 for reproducibility"
      ],
      "metadata": {
        "id": "946_SERKUDcB"
      },
      "execution_count": null,
      "outputs": []
    },
    {
      "cell_type": "code",
      "source": [
        "df.columns # return column labels\n",
        "df.columns.tolist() # return the same in form of list"
      ],
      "metadata": {
        "id": "JKpO_ax-2aTq"
      },
      "execution_count": null,
      "outputs": []
    },
    {
      "cell_type": "code",
      "source": [
        "df.index # return row labels"
      ],
      "metadata": {
        "id": "t9zpaRGc3GI4"
      },
      "execution_count": null,
      "outputs": []
    },
    {
      "cell_type": "code",
      "source": [
        "df.info() #shows a summary of the DataFrame, including column names, non-null counts, data types, and memory usage."
      ],
      "metadata": {
        "id": "oNW7uM0e3MJh"
      },
      "execution_count": null,
      "outputs": []
    },
    {
      "cell_type": "code",
      "source": [
        "df.describe() # gives statistical summaries (like mean, std, min, max, etc.) for numeric columns in the DataFrame."
      ],
      "metadata": {
        "id": "Cfp75xAQ3gJf"
      },
      "execution_count": null,
      "outputs": []
    },
    {
      "cell_type": "code",
      "source": [
        "df.shape # returns the shape of dataframe"
      ],
      "metadata": {
        "id": "m3rcsbJY4Q-d"
      },
      "execution_count": null,
      "outputs": []
    },
    {
      "cell_type": "code",
      "source": [
        "df.size # returns the total number of elements in the DataFrame (rows × columns)."
      ],
      "metadata": {
        "id": "QlISm5ta4eoW"
      },
      "execution_count": null,
      "outputs": []
    },
    {
      "cell_type": "markdown",
      "source": [
        "### Loading data into dataframe\n",
        "- pd.read_csv('file.csv') – for CSV files\n",
        "- pd.read_excel('file.xlsx') – for Excel files\n",
        "- pd.read_json('file.json') – for JSON files\n",
        "- pd.read_sql(query, connection) – for SQL databases\n",
        "\n",
        "> link to raw data from github also works in place of file path\n",
        "\n"
      ],
      "metadata": {
        "id": "l16P6u_3Q_2H"
      }
    },
    {
      "cell_type": "code",
      "source": [
        "data = pd.read_csv('https://raw.githubusercontent.com/jatinmeenaa/pandas_learning/refs/heads/main/Students%20Social%20Media%20Addiction.csv')\n",
        "data.sample(5,random_state=2)"
      ],
      "metadata": {
        "id": "yIsV9x7SSAUL"
      },
      "execution_count": null,
      "outputs": []
    },
    {
      "cell_type": "markdown",
      "source": [
        "### Accessing the data"
      ],
      "metadata": {
        "id": "7Y1szfpravt_"
      }
    },
    {
      "cell_type": "markdown",
      "source": [
        "#### (.loc , .iloc)\n",
        "1. df.loc[] is label-based: access rows/columns using labels \\\\\n",
        "(e.g., df.loc[2], df.loc[:, 'Name'])\n",
        "\n",
        "2. df.iloc[] is position-based: access rows/columns using index positions \\\\\n",
        "(e.g., df.iloc[2], df.iloc[:, 0])\n",
        "\n",
        "\n",
        "> The row and column specification can be a list of rows and list of columns\n",
        "\n"
      ],
      "metadata": {
        "id": "01SvlDGdV-RY"
      }
    },
    {
      "cell_type": "code",
      "source": [
        "data.loc[:,'Student_ID']\n",
        "data.loc[[1,2,3,6],['Student_ID','Gender']]\n",
        "\n",
        "# data.iloc[:,'Student_ID'] # Error: value error since iloc requires index value not label\n",
        "data.iloc[:,0]\n",
        "data.iloc[:4,:4] # both can be a specified in form of slice"
      ],
      "metadata": {
        "id": "RVX80mzUWM0p"
      },
      "execution_count": null,
      "outputs": []
    },
    {
      "cell_type": "markdown",
      "source": [
        "#### setting the values using .loc .iloc\n"
      ],
      "metadata": {
        "id": "iWd9A_UEairN"
      }
    },
    {
      "cell_type": "code",
      "source": [
        "data.loc[0,'Age']=20 #setting single value\n",
        "data.loc[0:2,'Age']=20 #setting multiple values\n",
        "data.loc[:,'Age']"
      ],
      "metadata": {
        "id": "XI-tWzysah66"
      },
      "execution_count": null,
      "outputs": []
    },
    {
      "cell_type": "markdown",
      "source": [
        "#### (.at , .iat)\n",
        "- df.at[row_label, column_label] – fast access to a single value using labels\n",
        "\n",
        "- df.iat[row_pos, column_pos] – fast access to a single value using integer positions"
      ],
      "metadata": {
        "id": "4pCXpkDhc-qk"
      }
    },
    {
      "cell_type": "code",
      "source": [
        "data.at[0,'Student_ID']"
      ],
      "metadata": {
        "id": "G0m3XGeUc6H_"
      },
      "execution_count": null,
      "outputs": []
    },
    {
      "cell_type": "markdown",
      "source": [
        "#### .sort_values()\n",
        "  returns the sorted data....do not change the original \\\\\n",
        "\n",
        "\n",
        "> For changing the actual data frame set\\\\\n",
        " inplace = True \\\\\n",
        " in this case doesn't return anything\n",
        "\n"
      ],
      "metadata": {
        "id": "XarJZukxfnDE"
      }
    },
    {
      "cell_type": "code",
      "source": [
        "data.head()"
      ],
      "metadata": {
        "id": "bIUFI2uWfmbA"
      },
      "execution_count": null,
      "outputs": []
    },
    {
      "cell_type": "code",
      "source": [
        "data.sort_values('Age') # default ascending\n",
        "data.sort_values(by='Age') # works the same\n",
        "data.sort_values(['Gender','Age'],ascending=[0,1],inplace=True) # gender descending and age ascending\n",
        "data"
      ],
      "metadata": {
        "id": "1gnwVhzMf1mt"
      },
      "execution_count": null,
      "outputs": []
    },
    {
      "cell_type": "code",
      "source": [
        "data=pd.read_csv('https://raw.githubusercontent.com/jatinmeenaa/pandas_learning/refs/heads/main/Students%20Social%20Media%20Addiction.csv')\n",
        "data"
      ],
      "metadata": {
        "id": "3wLcvFbLh0i9"
      },
      "execution_count": null,
      "outputs": []
    },
    {
      "cell_type": "markdown",
      "source": [
        "#### iterating row wise ( not much prefrable as not optimized )\n",
        "\n",
        "df.iterrows() lets you loop through the DataFrame row by row as (index, Series) pairs."
      ],
      "metadata": {
        "id": "x9OrZm9gj3w7"
      }
    },
    {
      "cell_type": "code",
      "source": [
        "for index, row in data.iterrows():\n",
        "  print(index)\n",
        "  print(type(row))\n",
        "  print('\\n\\n')"
      ],
      "metadata": {
        "id": "ubQVflJBkGVe"
      },
      "execution_count": null,
      "outputs": []
    },
    {
      "cell_type": "markdown",
      "source": [
        "### Filtering the data"
      ],
      "metadata": {
        "id": "koqr4rk0thOH"
      }
    },
    {
      "cell_type": "code",
      "source": [
        "data.loc[data['Gender']=='Male'] # all the columns for male"
      ],
      "metadata": {
        "id": "yGQpmTcQt8aO"
      },
      "execution_count": null,
      "outputs": []
    },
    {
      "cell_type": "code",
      "source": [
        "data[data['Gender']=='Male'] # works the same"
      ],
      "metadata": {
        "id": "GQ7e5OuTwVW0"
      },
      "execution_count": null,
      "outputs": []
    },
    {
      "cell_type": "code",
      "source": [
        "data.loc[data['Gender']=='Male',['Student_ID','Age']] # specific columns"
      ],
      "metadata": {
        "id": "QtJQiUVCwVCQ"
      },
      "execution_count": null,
      "outputs": []
    },
    {
      "cell_type": "code",
      "source": [
        "data[data['Gender']=='Male'][['Student_ID','Age']] # works the same"
      ],
      "metadata": {
        "id": "Keuy_dG_wU3W"
      },
      "execution_count": null,
      "outputs": []
    },
    {
      "cell_type": "code",
      "source": [
        "data[(data['Gender']=='Male')& (data['Age']>19)][['Student_ID','Age']] # multiple conditions"
      ],
      "metadata": {
        "id": "tMp3oXdUwUln"
      },
      "execution_count": null,
      "outputs": []
    }
  ]
}