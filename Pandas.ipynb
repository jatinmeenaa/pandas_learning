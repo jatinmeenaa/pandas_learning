{
  "nbformat": 4,
  "nbformat_minor": 0,
  "metadata": {
    "colab": {
      "provenance": [],
      "authorship_tag": "ABX9TyNLWTecr9jRQxUzHrWO2Rer",
      "include_colab_link": true
    },
    "kernelspec": {
      "name": "python3",
      "display_name": "Python 3"
    },
    "language_info": {
      "name": "python"
    }
  },
  "cells": [
    {
      "cell_type": "markdown",
      "metadata": {
        "id": "view-in-github",
        "colab_type": "text"
      },
      "source": [
        "<a href=\"https://colab.research.google.com/github/jatinmeenaa/pandas_learning/blob/main/Pandas.ipynb\" target=\"_parent\"><img src=\"https://colab.research.google.com/assets/colab-badge.svg\" alt=\"Open In Colab\"/></a>"
      ]
    },
    {
      "cell_type": "code",
      "execution_count": null,
      "metadata": {
        "id": "RLPGkXJKrFAX"
      },
      "outputs": [],
      "source": [
        "import pandas as pd\n",
        "df = pd.DataFrame([[1,2,3],[4,5,6],[7,8,9]],index=['a','b','c'], columns=['A','B','C'])\n",
        "df"
      ]
    },
    {
      "cell_type": "markdown",
      "source": [
        "### Dataframe\n",
        "A DataFrame is a 2D labeled data structure in Pandas, like a table with rows and columns.\n",
        "- pd.DataFrame() : creates a dataframe with the data in form of iterables like list dictionaries arrays etc.\n",
        "- by default the rows and colums have integer labels from 0.\n",
        "- index=[] : customize the row labels.\n",
        "- columns=[] : customize the column labels."
      ],
      "metadata": {
        "id": "aSHkDauWwCfp"
      }
    },
    {
      "cell_type": "code",
      "source": [
        "df['A'] # getting a particular column by specifying the label"
      ],
      "metadata": {
        "id": "X4xsS1RY1qTH"
      },
      "execution_count": null,
      "outputs": []
    },
    {
      "cell_type": "code",
      "source": [
        "df[['B','C']] # getting multiple columns by specifying the labels in form of list"
      ],
      "metadata": {
        "id": "JLz8FKTIzg3X"
      },
      "execution_count": null,
      "outputs": []
    },
    {
      "cell_type": "code",
      "source": [
        "df[:1:] # returns specific rows when specified in the form of [start: end(exclusive): step]"
      ],
      "metadata": {
        "id": "s4cp1EVh11yq"
      },
      "execution_count": null,
      "outputs": []
    },
    {
      "cell_type": "code",
      "source": [
        "df.head(1) # df.head(n=5): returns first n rows, for negative returns all except for last |n|"
      ],
      "metadata": {
        "id": "GvkGR-xx1xDG"
      },
      "execution_count": null,
      "outputs": []
    },
    {
      "cell_type": "code",
      "source": [
        "df.tail(2) # df.tail(n): returns last n rows, for negative all except for first |n|"
      ],
      "metadata": {
        "id": "Jo2xbaatzaWV"
      },
      "execution_count": null,
      "outputs": []
    },
    {
      "cell_type": "code",
      "source": [
        "df.columns # return column labels\n",
        "df.columns.tolist() # return the same in form of list"
      ],
      "metadata": {
        "id": "JKpO_ax-2aTq"
      },
      "execution_count": null,
      "outputs": []
    },
    {
      "cell_type": "code",
      "source": [
        "df.index # return row labels"
      ],
      "metadata": {
        "id": "t9zpaRGc3GI4"
      },
      "execution_count": null,
      "outputs": []
    },
    {
      "cell_type": "code",
      "source": [
        "df.info() #shows a summary of the DataFrame, including column names, non-null counts, data types, and memory usage."
      ],
      "metadata": {
        "id": "oNW7uM0e3MJh"
      },
      "execution_count": null,
      "outputs": []
    },
    {
      "cell_type": "code",
      "source": [
        "df.describe() # gives statistical summaries (like mean, std, min, max, etc.) for numeric columns in the DataFrame."
      ],
      "metadata": {
        "id": "Cfp75xAQ3gJf"
      },
      "execution_count": null,
      "outputs": []
    },
    {
      "cell_type": "code",
      "source": [
        "df.shape # returns the shape of dataframe"
      ],
      "metadata": {
        "id": "m3rcsbJY4Q-d"
      },
      "execution_count": null,
      "outputs": []
    },
    {
      "cell_type": "code",
      "source": [
        "df.size # returns the total number of elements in the DataFrame (rows × columns)."
      ],
      "metadata": {
        "id": "QlISm5ta4eoW"
      },
      "execution_count": null,
      "outputs": []
    }
  ]
}